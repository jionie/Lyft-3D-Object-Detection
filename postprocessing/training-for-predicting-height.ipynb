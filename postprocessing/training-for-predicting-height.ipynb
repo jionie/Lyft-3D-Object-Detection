{
 "cells": [
  {
   "cell_type": "code",
   "execution_count": 23,
   "metadata": {},
   "outputs": [],
   "source": [
    "import numpy as np\n",
    "import pandas as pd\n",
    "from sklearn import linear_model\n",
    "from sklearn.gaussian_process import GaussianProcessRegressor\n",
    "from sklearn.gaussian_process.kernels import DotProduct, WhiteKernel\n",
    "from sklearn.model_selection import KFold\n",
    "from sklearn.metrics import mean_squared_error as mse"
   ]
  },
  {
   "cell_type": "code",
   "execution_count": 2,
   "metadata": {},
   "outputs": [],
   "source": [
    "wlh_info = pd.read_csv(\"wlh_info.csv\")"
   ]
  },
  {
   "cell_type": "code",
   "execution_count": 3,
   "metadata": {},
   "outputs": [],
   "source": [
    "kf = KFold(n_splits=5)"
   ]
  },
  {
   "cell_type": "markdown",
   "metadata": {},
   "source": [
    "# For truck"
   ]
  },
  {
   "cell_type": "code",
   "execution_count": 32,
   "metadata": {},
   "outputs": [
    {
     "name": "stdout",
     "output_type": "stream",
     "text": [
      "0.19656516683448635 0.3783879150365397\n"
     ]
    }
   ],
   "source": [
    "truck_wlh = wlh_info[wlh_info['name'] == 'truck']\n",
    "X = np.concatenate((np.expand_dims(truck_wlh.width.values, axis=1), \\\n",
    "                    np.expand_dims(truck_wlh.length.values, axis=1)), axis=1)\n",
    "y = truck_wlh.height.values\n",
    "class_height = {'animal':0.51,'bicycle':1.44,'bus':3.44,'car':1.72,'emergency_vehicle':2.39,'motorcycle':1.59,\n",
    "                'other_vehicle':3.23,'pedestrian':1.78,'truck':3.44}\n",
    "loss = []\n",
    "loss_avg = []\n",
    "\n",
    "for train_index, test_index in kf.split(X):\n",
    "    X_train, X_test = X[train_index], X[test_index]\n",
    "    y_train, y_test = y[train_index], y[test_index]\n",
    "    \n",
    "    reg = linear_model.BayesianRidge()\n",
    "#     kernel = DotProduct() + WhiteKernel()\n",
    "#     reg = GaussianProcessRegressor(kernel=kernel, random_state=42)\n",
    "    reg.fit(X_train, y_train)\n",
    "    \n",
    "    y_pred = reg.predict(X_test)\n",
    "    \n",
    "    loss.append(mse(y_test, y_pred))\n",
    "    loss_avg.append(mse(y_test, np.ones_like(y_test) * class_height['truck']))\n",
    "    \n",
    "print(np.mean(loss), np.mean(loss_avg))"
   ]
  },
  {
   "cell_type": "markdown",
   "metadata": {},
   "source": [
    "# For car"
   ]
  },
  {
   "cell_type": "code",
   "execution_count": 33,
   "metadata": {},
   "outputs": [
    {
     "name": "stdout",
     "output_type": "stream",
     "text": [
      "0.031371358685716264 0.05801175009191091\n"
     ]
    }
   ],
   "source": [
    "truck_wlh = wlh_info[wlh_info['name'] == 'car']\n",
    "X = np.concatenate((np.expand_dims(truck_wlh.width.values, axis=1), \\\n",
    "                    np.expand_dims(truck_wlh.length.values, axis=1)), axis=1)\n",
    "y = truck_wlh.height.values\n",
    "class_height = {'animal':0.51,'bicycle':1.44,'bus':3.44,'car':1.72,'emergency_vehicle':2.39,'motorcycle':1.59,\n",
    "                'other_vehicle':3.23,'pedestrian':1.78,'truck':3.44}\n",
    "loss = []\n",
    "loss_avg = []\n",
    "\n",
    "for train_index, test_index in kf.split(X):\n",
    "    X_train, X_test = X[train_index], X[test_index]\n",
    "    y_train, y_test = y[train_index], y[test_index]\n",
    "    \n",
    "    reg = linear_model.BayesianRidge()\n",
    "#     kernel = DotProduct() + WhiteKernel()\n",
    "#     reg = GaussianProcessRegressor(kernel=kernel, random_state=42)\n",
    "    reg.fit(X_train, y_train)\n",
    "    \n",
    "    y_pred = reg.predict(X_test)\n",
    "    \n",
    "    loss.append(mse(y_test, y_pred))\n",
    "    loss_avg.append(mse(y_test, np.ones_like(y_test) * class_height['car']))\n",
    "    \n",
    "print(np.mean(loss), np.mean(loss_avg))"
   ]
  },
  {
   "cell_type": "code",
   "execution_count": 34,
   "metadata": {},
   "outputs": [],
   "source": [
    "from training_for_predicting_height import *"
   ]
  },
  {
   "cell_type": "code",
   "execution_count": 35,
   "metadata": {},
   "outputs": [
    {
     "name": "stdout",
     "output_type": "stream",
     "text": [
      "For class:  car 5 validation using predicted height mse:  0.031371358685716264 using average height mse:  0.05801175009191091\n"
     ]
    }
   ],
   "source": [
    "reg = get_height_reg(name='car', folds=5)"
   ]
  },
  {
   "cell_type": "code",
   "execution_count": null,
   "metadata": {},
   "outputs": [],
   "source": []
  }
 ],
 "metadata": {
  "kernelspec": {
   "display_name": "py3env",
   "language": "python",
   "name": "py3env"
  },
  "language_info": {
   "codemirror_mode": {
    "name": "ipython",
    "version": 3
   },
   "file_extension": ".py",
   "mimetype": "text/x-python",
   "name": "python",
   "nbconvert_exporter": "python",
   "pygments_lexer": "ipython3",
   "version": "3.6.8"
  }
 },
 "nbformat": 4,
 "nbformat_minor": 2
}
