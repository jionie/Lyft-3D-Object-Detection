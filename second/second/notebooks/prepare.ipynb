{
 "cells": [
  {
   "cell_type": "code",
   "execution_count": 1,
   "metadata": {
    "ExecuteTime": {
     "end_time": "2019-11-05T05:22:32.650080Z",
     "start_time": "2019-11-05T05:22:32.364691Z"
    }
   },
   "outputs": [],
   "source": [
    "%load_ext autoreload\n",
    "%autoreload 2\n",
    "%matplotlib inline"
   ]
  },
  {
   "cell_type": "code",
   "execution_count": 3,
   "metadata": {
    "ExecuteTime": {
     "end_time": "2019-11-05T05:22:49.033912Z",
     "start_time": "2019-11-05T05:22:47.944884Z"
    }
   },
   "outputs": [],
   "source": [
    "import numpy as np\n",
    "import pandas as pd\n",
    "#import plotly.graph_objects as go\n",
    "import matplotlib.pyplot as plt\n",
    "from mpl_toolkits.mplot3d import axes3d, Axes3D\n",
    "from tqdm import tqdm_notebook as tqdm\n",
    "import pickle\n",
    "from pathlib import Path\n",
    "from nuscenes import NuScenes\n",
    "from scipy.spatial.transform import Rotation as R \n",
    "from math import cos, sin, pi\n",
    "from lyft_dataset_sdk.lyftdataset import *\n",
    "from lyft_dataset_sdk.utils.data_classes import LidarPointCloud, Box, Quaternion\n",
    "from lyft_dataset_sdk.utils.geometry_utils import view_points, transform_matrix\n",
    "from lyft_dataset_sdk.eval.detection.mAP_evaluation import Box3D, recall_precision"
   ]
  },
  {
   "cell_type": "code",
   "execution_count": 9,
   "metadata": {
    "ExecuteTime": {
     "end_time": "2019-11-05T05:25:52.489338Z",
     "start_time": "2019-11-05T05:24:54.161614Z"
    }
   },
   "outputs": [],
   "source": [
    "phase = 'train'\n",
    "data = 'v1.0-trainval' if phase=='train' else 'v1.0-test'\n",
    "path = '/media/jionie/my_disk/Kaggle/Lyft/input/3d-object-detection-for-autonomous-vehicles/train_root/'\n",
    "nusc = NuScenes(dataroot=path, version=data, verbose=0) \n",
    "lyft=nusc"
   ]
  },
  {
   "cell_type": "markdown",
   "metadata": {},
   "source": [
    "### prepare ground truth json files\n",
    "\n",
    "Ground truth json files for train/val set are used for evaluation using  lyft's official mAP metric"
   ]
  },
  {
   "cell_type": "code",
   "execution_count": 5,
   "metadata": {
    "ExecuteTime": {
     "end_time": "2019-11-05T05:32:02.964382Z",
     "start_time": "2019-11-05T05:32:01.921406Z"
    }
   },
   "outputs": [],
   "source": [
    "# info_path = '../../../data/lyft/train/infos_val.pkl'\n",
    "#info_path = '../../../data/lyft/train/infos_train.pkl'\n",
    "# info_path = '../../../data/nuscenes/v1.0-trainval/infos_train.pkl'\n",
    "info_path = '/media/jionie/my_disk/Kaggle/Lyft/input/3d-object-detection-for-autonomous-vehicles/train_root/infos_val.pkl'\n",
    "with open(info_path, 'rb') as f:\n",
    "    info = pickle.load(f)['infos']"
   ]
  },
  {
   "cell_type": "code",
   "execution_count": 6,
   "metadata": {
    "ExecuteTime": {
     "end_time": "2019-11-05T05:26:55.036686Z",
     "start_time": "2019-11-05T05:26:55.023699Z"
    }
   },
   "outputs": [],
   "source": [
    "# only for nuscenes\n",
    "NameMapping = {\n",
    "    'movable_object.barrier': 'barrier',\n",
    "    'vehicle.bicycle': 'bicycle',\n",
    "    'vehicle.bus.bendy': 'bus',\n",
    "    'vehicle.bus.rigid': 'bus',\n",
    "    'vehicle.car': 'car',\n",
    "    'vehicle.construction': 'construction_vehicle',\n",
    "    'vehicle.motorcycle': 'motorcycle',\n",
    "    'human.pedestrian.adult': 'pedestrian',\n",
    "    'human.pedestrian.child': 'pedestrian',\n",
    "    'human.pedestrian.construction_worker': 'pedestrian',\n",
    "    'human.pedestrian.police_officer': 'pedestrian',\n",
    "    'movable_object.trafficcone': 'traffic_cone',\n",
    "    'vehicle.trailer': 'trailer',\n",
    "    'vehicle.truck': 'truck'\n",
    "}\n"
   ]
  },
  {
   "cell_type": "code",
   "execution_count": 19,
   "metadata": {
    "ExecuteTime": {
     "end_time": "2019-11-05T05:32:05.287231Z",
     "start_time": "2019-11-05T05:32:04.847985Z"
    }
   },
   "outputs": [
    {
     "name": "stderr",
     "output_type": "stream",
     "text": [
      "100%|██████████| 4158/4158 [00:00<00:00, 17227.02it/s]\n"
     ]
    }
   ],
   "source": [
    "gt_data = [] \n",
    "for inf in tqdm(info):\n",
    "    sample_token = inf['token']\n",
    "    sample = lyft.get('sample', sample_token)\n",
    "    for ann_token in sample['anns']:\n",
    "        ann_record = lyft.get('sample_annotation', ann_token)\n",
    "        try:\n",
    "            data = {\n",
    "                'sample_token': sample_token,\n",
    "                'translation': ann_record['translation'],\n",
    "                'size': ann_record['size'],\n",
    "                'rotation': ann_record['rotation'],\n",
    "                'name': ann_record['category_name']\n",
    "#                 'name': NameMapping[ann_record['category_name']]\n",
    "            }\n",
    "            gt_data.append(data)\n",
    "        except Exception as e:\n",
    "            print(e) # for nuscenes, not using some categories"
   ]
  },
  {
   "cell_type": "code",
   "execution_count": 21,
   "metadata": {
    "ExecuteTime": {
     "end_time": "2019-11-05T05:32:07.096381Z",
     "start_time": "2019-11-05T05:32:07.083457Z"
    }
   },
   "outputs": [
    {
     "data": {
      "text/plain": [
       "(113896,\n",
       " {'sample_token': 'f7fca7320eaf90ffc6d20bf5477a18ca61c042979eaaf0cda36603e1a969dad9',\n",
       "  'translation': [1002.3932119976462, 2517.525612249236, -21.410812547321655],\n",
       "  'size': [1.999, 4.817, 1.636],\n",
       "  'rotation': [-0.9905516179554115, 0, 0, 0.13714041040450659],\n",
       "  'name': 'car'})"
      ]
     },
     "execution_count": 21,
     "metadata": {},
     "output_type": "execute_result"
    }
   ],
   "source": [
    "len(gt_data), gt_data[0]"
   ]
  },
  {
   "cell_type": "code",
   "execution_count": 22,
   "metadata": {
    "ExecuteTime": {
     "end_time": "2019-11-05T05:32:20.067134Z",
     "start_time": "2019-11-05T05:32:16.688970Z"
    }
   },
   "outputs": [],
   "source": [
    "# gt_data_path = '../../../data/lyft/train/gt_data_val.json'\n",
    "# gt_data_path = '../../../data/lyft/train/gt_data_train.json'\n",
    "# gt_data_path = '../../../data/nuscenes/v1.0-trainval/gt_data_train.json'\n",
    "gt_data_path = '/media/jionie/my_disk/Kaggle/Lyft/input/3d-object-detection-for-autonomous-vehicles/train_root/gt_data_val.json'\n",
    "with open(gt_data_path, 'w') as f:\n",
    "    json.dump(gt_data, f, indent=2)"
   ]
  },
  {
   "cell_type": "code",
   "execution_count": null,
   "metadata": {},
   "outputs": [],
   "source": []
  }
 ],
 "metadata": {
  "kernelspec": {
   "display_name": "py3env",
   "language": "python",
   "name": "py3env"
  },
  "language_info": {
   "codemirror_mode": {
    "name": "ipython",
    "version": 3
   },
   "file_extension": ".py",
   "mimetype": "text/x-python",
   "name": "python",
   "nbconvert_exporter": "python",
   "pygments_lexer": "ipython3",
   "version": "3.6.8"
  }
 },
 "nbformat": 4,
 "nbformat_minor": 2
}
