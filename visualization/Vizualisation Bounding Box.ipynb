{
 "cells": [
  {
   "cell_type": "code",
   "execution_count": 1,
   "metadata": {},
   "outputs": [],
   "source": [
    "from pyntcloud import PyntCloud\n",
    "from pyntcloud.io import bin as io_bin\n",
    "import numpy as np\n",
    "import pandas as pd\n",
    "import os"
   ]
  },
  {
   "cell_type": "code",
   "execution_count": 6,
   "metadata": {},
   "outputs": [],
   "source": [
    "VELODYNE_HEIGHT = 3\n",
    "\n",
    "def extractBB(label,gt=True):\n",
    "    label_split = label.split(\" \")\n",
    "    if gt:\n",
    "        return label_split[0],float(label_split[-7]),float(label_split[-6]),float(label_split[-5]),float(label_split[-4]),float(label_split[-3]),float(label_split[-2]),float(label_split[-1])\n",
    "    else:\n",
    "        return label_split[0],float(label_split[-8]),float(label_split[-7]),float(label_split[-6]),float(label_split[-5]),float(label_split[-4]),float(label_split[-3]),float(label_split[-2])\n",
    "    \n",
    "def getCorners(height,width,length,x,y,z,θ,rotation=True):\n",
    "    \n",
    "    corners = np.array([[-length / 2, -length / 2, length / 2, length / 2, -length / 2, -length / 2, length / 2, length / 2],\n",
    "                        [width / 2, -width / 2, -width / 2, width / 2, width / 2, -width / 2, -width / 2, width / 2],\n",
    "                        [0, 0, 0, 0, height, height, height, height]])\n",
    "    \n",
    "    rotMat = np.array([[np.cos(θ) , -np.sin(θ) , 0],\n",
    "                       [np.sin(θ) ,  np.cos(θ) , 0],\n",
    "                       [    0     ,     0      , 1]])\n",
    "    if rotation:\n",
    "        cornersPos = (np.dot(rotMat,corners)+np.tile([x,y,z],(8,1)).T).transpose()\n",
    "        corner1,corner2,corner3,corner4,corner5,corner6,corner7,corner8 = cornersPos[0],cornersPos[1],cornersPos[2],cornersPos[3],cornersPos[4],cornersPos[5],cornersPos[6],cornersPos[7]\n",
    "    else:\n",
    "        cornersPos = (corners + np.tile([x,y,z],(8,1)).T).transpose()\n",
    "        corner1,corner2,corner3,corner4,corner5,corner6,corner7,corner8 = cornersPos[0],cornersPos[1],cornersPos[2],cornersPos[3],cornersPos[4],cornersPos[5],cornersPos[6],cornersPos[7]\n",
    "    \n",
    "    return list(corner1),list(corner2),list(corner3),list(corner4),list(corner5),list(corner6),list(corner7),list(corner8)\n",
    "\n",
    "def createBBox(bounding_box,C1,C2,C3,C4,C5,C6,C7,C8,color=\"yellow\"):\n",
    "    bounding_box.append(\n",
    "        {\n",
    "            \"color\":color,\n",
    "            \"vertices\":[C1,C2,C3,C4,C1]\n",
    "        })\n",
    "    bounding_box.append(\n",
    "        {\n",
    "            \"color\":color,\n",
    "            \"vertices\":[C1,C4,C8,C5,C1]\n",
    "        })\n",
    "    bounding_box.append(\n",
    "        {\n",
    "            \"color\":color,\n",
    "            \"vertices\":[C1,C2,C6,C5,C1]\n",
    "        })\n",
    "    bounding_box.append(\n",
    "        {\n",
    "            \"color\":color,\n",
    "            \"vertices\":[C2,C6,C7,C3,C2]\n",
    "        })\n",
    "    bounding_box.append(\n",
    "        {\n",
    "            \"color\":color,\n",
    "            \"vertices\":[C3,C7,C8,C4,C3]\n",
    "        })\n",
    "    return bounding_box"
   ]
  },
  {
   "cell_type": "markdown",
   "metadata": {},
   "source": [
    "## Display Ground Truth & PointRCNN predictions"
   ]
  },
  {
   "cell_type": "code",
   "execution_count": 11,
   "metadata": {},
   "outputs": [
    {
     "data": {
      "image/png": "[encoded data removed]",
      "text/plain": [
       "<Figure size 720x720 with 1 Axes>"
      ]
     },
     "metadata": {
      "needs_background": "light"
     },
     "output_type": "display_data"
    }
   ],
   "source": [
    "KITTI_PATH = \"/media/jionie/my_disk/Kaggle/Lyft/input/3d-object-detection-for-autonomous-vehicles/train_root/KITTI/\"\n",
    "PC_ID = \"30d4d496e0393f90aeaa910b21761a8fc07ce8b733cc81185041e3139110f793\"\n",
    "points = io_bin.read_bin(KITTI_PATH+\"velodyne/\"+PC_ID+\".bin\",shape=(-1,4))['points']\n",
    "points['z'] += VELODYNE_HEIGHT\n",
    "\n",
    "assert os.path.exists(KITTI_PATH+\"label_2/\"+PC_ID+\".txt\"), \"File \"+KITTI_PATH+\"label_2/\"+PC_ID+\".txt doesn't exist !\"\n",
    "file_label_gt = open(KITTI_PATH+\"label_2/\"+PC_ID+\".txt\",\"r\")\n",
    "labels_gt = file_label_gt.readlines()\n",
    "file_label_gt.close()\n",
    "\n",
    "labels_clean_gt = []\n",
    "for i,label in enumerate(labels_gt):\n",
    "    labels_gt[i]=label[:-2]\n",
    "    if labels_gt[i].split(\" \")[0] in [\"car\", \"Van\", \"truck\"]:\n",
    "        labels_clean_gt.append(extractBB(labels_gt[i],gt=True))\n",
    "        \n",
    "bounding_box = []\n",
    "colors = {\"GT\":'blue',\"Pred\":\"yellow\"}\n",
    "\n",
    "for label in labels_clean_gt: \n",
    "    object_type,height,width,length,x_tmp,y_tmp,z_tmp,θ = label\n",
    "    x,y,z,θ = z_tmp,-x_tmp,y_tmp-VELODYNE_HEIGHT,np.pi/2-θ\n",
    "    C1,C2,C3,C4,C5,C6,C7,C8 = getCorners(height,width,length,x,y,z,θ,rotation=True)\n",
    "    bounding_box = createBBox(bounding_box,C1,C2,C3,C4,C5,C6,C7,C8,colors[\"GT\"])\n",
    "    \n",
    "    \n",
    "cloud = PyntCloud(points)\n",
    "cloud.plot(initial_point_size=0.02, polylines=bounding_box)"
   ]
  },
  {
   "cell_type": "code",
   "execution_count": 3,
   "metadata": {},
   "outputs": [
    {
     "data": {
      "application/vnd.jupyter.widget-view+json": {
       "model_id": "c8a1544984854a9fa14b341daff0460f",
       "version_major": 2,
       "version_minor": 0
      },
      "text/plain": [
       "Renderer(camera=PerspectiveCamera(aspect=1.6, fov=90.0, position=(-1.290243148803711, 55.121368646621704, 7.58…"
      ]
     },
     "metadata": {},
     "output_type": "display_data"
    },
    {
     "data": {
      "application/vnd.jupyter.widget-view+json": {
       "model_id": "7c07eeaa358241d3945389599e567060",
       "version_major": 2,
       "version_minor": 0
      },
      "text/plain": [
       "HBox(children=(Label(value='Point size:'), FloatSlider(value=0.02, max=0.2, step=0.0002), Label(value='Backgro…"
      ]
     },
     "metadata": {},
     "output_type": "display_data"
    }
   ],
   "source": [
    "KITTI_PATH = \"/home/data/KITTI/Original/training/\"\n",
    "PointRCNN_PATH = \"/home/data/CTI1/lego//PointCloudObjectDetection/PointRCNN/pretrained_model/final_result/data/\"\n",
    "\n",
    "PC_ID = '%06d' % 6388 # [0 : 7480] \n",
    "\n",
    "points = io_bin.read_bin(KITTI_PATH+\"velodyne/\"+PC_ID+\".bin\",shape=(-1,4))['points']\n",
    "points['z'] += VELODYNE_HEIGHT\n",
    "\n",
    "assert os.path.exists(KITTI_PATH+\"label_2/\"+PC_ID+\".txt\"), \"File \"+KITTI_PATH+\"label_2/\"+PC_ID+\".txt doesn't exist !\"\n",
    "file_label_gt = open(KITTI_PATH+\"label_2/\"+PC_ID+\".txt\",\"r\")\n",
    "labels_gt = file_label_gt.readlines()\n",
    "file_label_gt.close()\n",
    "\n",
    "assert os.path.exists(PointRCNN_PATH+PC_ID+\".txt\"), \"File \"+PointRCNN_PATH+PC_ID+\".txt doesn't exist !\"\n",
    "file_label_pred = open(PointRCNN_PATH+PC_ID+\".txt\",\"r\")\n",
    "labels_pred = file_label_pred.readlines()\n",
    "file_label_pred.close()\n",
    "\n",
    "labels_clean_gt = []\n",
    "for i,label in enumerate(labels_gt):\n",
    "    labels_gt[i]=label[:-2]\n",
    "    if labels_gt[i].split(\" \")[0] in [\"Car\", \"Van\", \"Truck\"]:\n",
    "        labels_clean_gt.append(extractBB(labels_gt[i],gt=True))\n",
    "\n",
    "labels_clean_pred = []\n",
    "for i,label in enumerate(labels_pred):\n",
    "    labels_pred[i]=label[:-2]\n",
    "    if labels_pred[i].split(\" \")[0] == \"Car\":\n",
    "        labels_clean_pred.append(extractBB(labels_pred[i],gt=False))\n",
    "\n",
    "bounding_box = []\n",
    "colors = {\"GT\":'blue',\"Pred\":\"yellow\"}\n",
    "\n",
    "for label in labels_clean_gt: \n",
    "    object_type,height,width,length,x_tmp,y_tmp,z_tmp,θ = label\n",
    "    x,y,z,θ = z_tmp,-x_tmp,y_tmp-VELODYNE_HEIGHT,np.pi/2-θ\n",
    "    C1,C2,C3,C4,C5,C6,C7,C8 = getCorners(height,width,length,x,y,z,θ,rotation=True)\n",
    "    bounding_box = createBBox(bounding_box,C1,C2,C3,C4,C5,C6,C7,C8,colors[\"GT\"])\n",
    "    \n",
    "for label in labels_clean_pred: \n",
    "    object_type,height,width,length,x_tmp,y_tmp,z_tmp,θ = label\n",
    "    x,y,z,θ = z_tmp,-x_tmp,y_tmp-VELODYNE_HEIGHT,np.pi/2-θ\n",
    "    C1,C2,C3,C4,C5,C6,C7,C8 = getCorners(height,width,length,x,y,z,θ,rotation=True)\n",
    "    bounding_box = createBBox(bounding_box,C1,C2,C3,C4,C5,C6,C7,C8,colors[\"Pred\"])\n",
    "    \n",
    "    \n",
    "cloud = PyntCloud(points)\n",
    "cloud.plot(initial_point_size=0.02, polylines=bounding_box)"
   ]
  },
  {
   "cell_type": "code",
   "execution_count": null,
   "metadata": {},
   "outputs": [],
   "source": []
  }
 ],
 "metadata": {
  "kernelspec": {
   "display_name": "Python 3",
   "language": "python",
   "name": "python3"
  },
  "language_info": {
   "codemirror_mode": {
    "name": "ipython",
    "version": 3
   },
   "file_extension": ".py",
   "mimetype": "text/x-python",
   "name": "python",
   "nbconvert_exporter": "python",
   "pygments_lexer": "ipython3",
   "version": "3.6.8"
  }
 },
 "nbformat": 4,
 "nbformat_minor": 2
}
