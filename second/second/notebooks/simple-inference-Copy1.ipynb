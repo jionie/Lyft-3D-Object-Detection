{
 "cells": [
  {
   "cell_type": "code",
   "execution_count": 2,
   "metadata": {
    "ExecuteTime": {
     "end_time": "2019-09-27T18:21:53.702836Z",
     "start_time": "2019-09-27T18:21:53.554347Z"
    }
   },
   "outputs": [],
   "source": [
    "%load_ext autoreload\n",
    "%autoreload 2\n",
    "%matplotlib inline\n",
    "import numpy as np\n",
    "import matplotlib.pyplot as plt\n",
    "import pickle\n",
    "from pathlib import Path"
   ]
  },
  {
   "cell_type": "code",
   "execution_count": 3,
   "metadata": {
    "ExecuteTime": {
     "end_time": "2019-09-27T18:21:57.111793Z",
     "start_time": "2019-09-27T18:21:53.813683Z"
    }
   },
   "outputs": [],
   "source": [
    "import torch\n",
    "from google.protobuf import text_format\n",
    "from second.utils import simplevis\n",
    "from second.pytorch.train import build_network\n",
    "from second.protos import pipeline_pb2\n",
    "from second.utils import config_tool"
   ]
  },
  {
   "cell_type": "markdown",
   "metadata": {},
   "source": [
    "## Read Config file"
   ]
  },
  {
   "cell_type": "code",
   "execution_count": 4,
   "metadata": {
    "ExecuteTime": {
     "end_time": "2019-09-27T18:21:57.133209Z",
     "start_time": "2019-09-27T18:21:57.112832Z"
    }
   },
   "outputs": [],
   "source": [
    "config_path = \"configs/nuscenes/all.fhd.config\"\n",
    "config = pipeline_pb2.TrainEvalPipelineConfig()\n",
    "with open(config_path, \"r\") as f:\n",
    "    proto_str = f.read()\n",
    "    text_format.Merge(proto_str, config)\n",
    "input_cfg = config.eval_input_reader\n",
    "model_cfg = config.model.second\n",
    "config_tool.change_detection_range_v2(model_cfg, [-50, -50, 50, 50])\n",
    "device = torch.device(\"cuda\" if torch.cuda.is_available() else \"cpu\")\n",
    "# device = torch.device(\"cpu\")"
   ]
  },
  {
   "cell_type": "markdown",
   "metadata": {},
   "source": [
    "## Build Network, Target Assigner and Voxel Generator"
   ]
  },
  {
   "cell_type": "code",
   "execution_count": 5,
   "metadata": {
    "ExecuteTime": {
     "end_time": "2019-09-27T18:22:00.650306Z",
     "start_time": "2019-09-27T18:21:58.428276Z"
    }
   },
   "outputs": [
    {
     "name": "stdout",
     "output_type": "stream",
     "text": [
      "[  41 2000 2000]\n"
     ]
    }
   ],
   "source": [
    "ckpt_path = \"/home/ags/second_test/all_fhd/voxelnet-11730.tckpt\"\n",
    "net = build_network(model_cfg).to(device).eval()\n",
    "net.load_state_dict(torch.load(ckpt_path))\n",
    "target_assigner = net.target_assigner\n",
    "voxel_generator = net.voxel_generator"
   ]
  },
  {
   "cell_type": "markdown",
   "metadata": {},
   "source": [
    "## Generate Anchors"
   ]
  },
  {
   "cell_type": "code",
   "execution_count": 6,
   "metadata": {
    "ExecuteTime": {
     "end_time": "2019-09-27T18:22:00.745289Z",
     "start_time": "2019-09-27T18:22:00.710122Z"
    }
   },
   "outputs": [],
   "source": [
    "grid_size = voxel_generator.grid_size\n",
    "feature_map_size = grid_size[:2] // config_tool.get_downsample_factor(model_cfg)\n",
    "feature_map_size = [*feature_map_size, 1][::-1]\n",
    "\n",
    "anchors = target_assigner.generate_anchors(feature_map_size)[\"anchors\"]\n",
    "anchors = torch.tensor(anchors, dtype=torch.float32, device=device)\n",
    "anchors = anchors.view(1, -1, 7)"
   ]
  },
  {
   "cell_type": "markdown",
   "metadata": {},
   "source": [
    "## Read KITTI infos\n",
    "you can load your custom point cloud."
   ]
  },
  {
   "cell_type": "code",
   "execution_count": 7,
   "metadata": {
    "ExecuteTime": {
     "end_time": "2019-09-27T18:22:03.037524Z",
     "start_time": "2019-09-27T18:22:01.704376Z"
    }
   },
   "outputs": [],
   "source": [
    "# info_path = input_cfg.dataset.kitti_info_path\n",
    "# root_path = Path(input_cfg.dataset.kitti_root_path)\n",
    "info_path = '../../data/lyft/test/infos_test.pkl'\n",
    "root_path = '../../data/lyft/test/'\n",
    "with open(info_path, 'rb') as f:\n",
    "    infos = pickle.load(f)"
   ]
  },
  {
   "cell_type": "markdown",
   "metadata": {},
   "source": [
    "## Load Point Cloud, Generate Voxels"
   ]
  },
  {
   "cell_type": "code",
   "execution_count": 14,
   "metadata": {
    "ExecuteTime": {
     "end_time": "2019-09-27T18:27:43.628415Z",
     "start_time": "2019-09-27T18:27:43.578986Z"
    }
   },
   "outputs": [
    {
     "name": "stdout",
     "output_type": "stream",
     "text": [
      "(18160, 1, 4)\n"
     ]
    }
   ],
   "source": [
    "info = infos['infos'][0]\n",
    "v_path = info[\"lidar_path\"]\n",
    "points = np.fromfile(\n",
    "    v_path, dtype=np.float32, count=-1).reshape([-1, 5])[:, :4]\n",
    "res = voxel_generator.generate(points, max_voxels=90000)\n",
    "voxels, coords, num_points = res['voxels'], res['coordinates'], res['num_points_per_voxel']\n",
    "print(voxels.shape)\n",
    "# add batch idx to coords\n",
    "coords = np.pad(coords, ((0, 0), (1, 0)), mode='constant', constant_values=0)\n",
    "voxels = torch.tensor(voxels, dtype=torch.float32, device=device)\n",
    "coords = torch.tensor(coords, dtype=torch.int32, device=device)\n",
    "num_points = torch.tensor(num_points, dtype=torch.int32, device=device)"
   ]
  },
  {
   "cell_type": "markdown",
   "metadata": {},
   "source": [
    "## Detection"
   ]
  },
  {
   "cell_type": "code",
   "execution_count": 15,
   "metadata": {
    "ExecuteTime": {
     "end_time": "2019-09-27T18:27:46.963891Z",
     "start_time": "2019-09-27T18:27:46.502828Z"
    }
   },
   "outputs": [],
   "source": [
    "example = {\n",
    "    \"anchors\": anchors,\n",
    "    \"voxels\": voxels,\n",
    "    \"num_points\": num_points,\n",
    "    \"coordinates\": coords,\n",
    "}\n",
    "pred = net(example)[0]"
   ]
  },
  {
   "cell_type": "markdown",
   "metadata": {},
   "source": [
    "## Simple Vis"
   ]
  },
  {
   "cell_type": "code",
   "execution_count": 52,
   "metadata": {
    "ExecuteTime": {
     "end_time": "2019-09-27T18:44:04.857797Z",
     "start_time": "2019-09-27T18:44:04.817872Z"
    }
   },
   "outputs": [],
   "source": [
    "boxes_lidar = pred[\"box3d_lidar\"].detach().cpu().numpy()\n",
    "scores = pred['scores']\n",
    "boxes_lidar = boxes_lidar[scores.cpu()>0.5]\n",
    "vis_voxel_size = [0.1, 0.1, 0.1]\n",
    "vis_point_range = [-50, -30, -3, 50, 30, 1]\n",
    "org_bev_map = simplevis.point_to_vis_bev(points, vis_voxel_size, vis_point_range)\n",
    "bev_map = simplevis.draw_box_in_bev(org_bev_map.copy(), vis_point_range, boxes_lidar, [0, 255, 0], 2)"
   ]
  },
  {
   "cell_type": "code",
   "execution_count": 53,
   "metadata": {
    "ExecuteTime": {
     "end_time": "2019-09-27T18:44:05.328041Z",
     "start_time": "2019-09-27T18:44:05.067749Z"
    }
   },
   "outputs": [
    {
     "data": {
      "image/png": "[encoded data removed]",
      "text/plain": [
       "<Figure size 432x288 with 1 Axes>"
      ]
     },
     "metadata": {
      "needs_background": "light"
     },
     "output_type": "display_data"
    },
    {
     "data": {
      "text/plain": [
       "<matplotlib.image.AxesImage at 0x7f46d44913d0>"
      ]
     },
     "execution_count": 53,
     "metadata": {},
     "output_type": "execute_result"
    },
    {
     "data": {
      "image/png": "[encoded data removed]",
      "text/plain": [
       "<Figure size 432x288 with 1 Axes>"
      ]
     },
     "metadata": {
      "needs_background": "light"
     },
     "output_type": "display_data"
    }
   ],
   "source": [
    "plt.imshow(org_bev_map); plt.show()\n",
    "plt.imshow(bev_map)"
   ]
  },
  {
   "cell_type": "code",
   "execution_count": 26,
   "metadata": {
    "ExecuteTime": {
     "end_time": "2019-09-27T18:29:12.178338Z",
     "start_time": "2019-09-27T18:29:12.157051Z"
    }
   },
   "outputs": [
    {
     "data": {
      "text/plain": [
       "dict_keys(['box3d_lidar', 'scores', 'label_preds', 'metadata'])"
      ]
     },
     "execution_count": 26,
     "metadata": {},
     "output_type": "execute_result"
    }
   ],
   "source": [
    "pred.keys()"
   ]
  },
  {
   "cell_type": "code",
   "execution_count": 28,
   "metadata": {
    "ExecuteTime": {
     "end_time": "2019-09-27T18:29:58.447954Z",
     "start_time": "2019-09-27T18:29:58.433291Z"
    }
   },
   "outputs": [],
   "source": [
    "box3d_lidar = pred['box3d_lidar']\n",
    "scores = pred['scores']\n",
    "label_preds = pred['label_preds']\n",
    "metadata = pred['metadata']"
   ]
  },
  {
   "cell_type": "code",
   "execution_count": 32,
   "metadata": {
    "ExecuteTime": {
     "end_time": "2019-09-27T18:30:40.107743Z",
     "start_time": "2019-09-27T18:30:40.071262Z"
    }
   },
   "outputs": [
    {
     "data": {
      "text/plain": [
       "torch.Size([188, 7])"
      ]
     },
     "execution_count": 32,
     "metadata": {},
     "output_type": "execute_result"
    }
   ],
   "source": [
    "box3d_lidar.shape"
   ]
  },
  {
   "cell_type": "code",
   "execution_count": 29,
   "metadata": {
    "ExecuteTime": {
     "end_time": "2019-09-27T18:30:02.485273Z",
     "start_time": "2019-09-27T18:30:02.453906Z"
    }
   },
   "outputs": [
    {
     "data": {
      "text/plain": [
       "tensor([0, 0, 0, 0, 0, 2, 2, 2, 0, 2, 2, 2, 6, 6, 2, 2, 6, 0, 0, 6, 6, 6, 2, 2,\n",
       "        6, 6, 6, 6, 6, 6, 0, 2, 6, 6, 6, 6, 2, 6, 6, 6, 6, 0, 6, 6, 6, 6, 6, 6,\n",
       "        6, 6, 2, 6, 2, 6, 6, 0, 6, 6, 6, 2, 2, 6, 6, 5, 6, 6, 6, 2, 2, 6, 6, 6,\n",
       "        6, 2, 2, 6, 2, 6, 6, 6, 6, 2, 6, 6, 6, 6, 2, 6, 0, 6, 2, 6, 2, 6, 2, 6,\n",
       "        6, 6, 6, 6, 5, 6, 6, 0, 6, 6, 0, 5, 2, 0, 1, 6, 6, 2, 6, 6, 6, 6, 6, 6,\n",
       "        6, 6, 6, 2, 6, 6, 6, 0, 6, 6, 6, 6, 6, 2, 0, 6, 2, 2, 6, 6, 6, 6, 6, 0,\n",
       "        0, 6, 6, 6, 2, 6, 6, 0, 2, 5, 0, 6, 6, 6, 6, 6, 6, 6, 2, 2, 6, 6, 6, 6,\n",
       "        6, 6, 6, 6, 6, 2, 6, 2, 2, 6, 0, 6, 6, 2, 6, 6, 6, 2, 2, 6],\n",
       "       device='cuda:0')"
      ]
     },
     "execution_count": 29,
     "metadata": {},
     "output_type": "execute_result"
    }
   ],
   "source": [
    "label_preds"
   ]
  },
  {
   "cell_type": "code",
   "execution_count": 42,
   "metadata": {
    "ExecuteTime": {
     "end_time": "2019-09-27T18:39:26.249283Z",
     "start_time": "2019-09-27T18:39:26.232639Z"
    }
   },
   "outputs": [],
   "source": [
    "classes = target_assigner.classes"
   ]
  },
  {
   "cell_type": "code",
   "execution_count": 45,
   "metadata": {
    "ExecuteTime": {
     "end_time": "2019-09-27T18:41:15.016927Z",
     "start_time": "2019-09-27T18:41:14.980312Z"
    }
   },
   "outputs": [
    {
     "data": {
      "text/plain": [
       "['car',\n",
       " 'car',\n",
       " 'car',\n",
       " 'car',\n",
       " 'car',\n",
       " 'bus',\n",
       " 'bus',\n",
       " 'bus',\n",
       " 'car',\n",
       " 'bus',\n",
       " 'bus',\n",
       " 'bus',\n",
       " 'truck',\n",
       " 'truck',\n",
       " 'bus',\n",
       " 'bus',\n",
       " 'truck',\n",
       " 'car',\n",
       " 'car',\n",
       " 'truck',\n",
       " 'truck',\n",
       " 'truck',\n",
       " 'bus',\n",
       " 'bus',\n",
       " 'truck',\n",
       " 'truck',\n",
       " 'truck',\n",
       " 'truck',\n",
       " 'truck',\n",
       " 'truck',\n",
       " 'car',\n",
       " 'bus',\n",
       " 'truck',\n",
       " 'truck',\n",
       " 'truck',\n",
       " 'truck',\n",
       " 'bus',\n",
       " 'truck',\n",
       " 'truck',\n",
       " 'truck',\n",
       " 'truck',\n",
       " 'car',\n",
       " 'truck',\n",
       " 'truck',\n",
       " 'truck',\n",
       " 'truck',\n",
       " 'truck',\n",
       " 'truck',\n",
       " 'truck',\n",
       " 'truck',\n",
       " 'bus',\n",
       " 'truck',\n",
       " 'bus',\n",
       " 'truck',\n",
       " 'truck',\n",
       " 'car',\n",
       " 'truck',\n",
       " 'truck',\n",
       " 'truck',\n",
       " 'bus',\n",
       " 'bus',\n",
       " 'truck',\n",
       " 'truck',\n",
       " 'pedestrian',\n",
       " 'truck',\n",
       " 'truck',\n",
       " 'truck',\n",
       " 'bus',\n",
       " 'bus',\n",
       " 'truck',\n",
       " 'truck',\n",
       " 'truck',\n",
       " 'truck',\n",
       " 'bus',\n",
       " 'bus',\n",
       " 'truck',\n",
       " 'bus',\n",
       " 'truck',\n",
       " 'truck',\n",
       " 'truck',\n",
       " 'truck',\n",
       " 'bus',\n",
       " 'truck',\n",
       " 'truck',\n",
       " 'truck',\n",
       " 'truck',\n",
       " 'bus',\n",
       " 'truck',\n",
       " 'car',\n",
       " 'truck',\n",
       " 'bus',\n",
       " 'truck',\n",
       " 'bus',\n",
       " 'truck',\n",
       " 'bus',\n",
       " 'truck',\n",
       " 'truck',\n",
       " 'truck',\n",
       " 'truck',\n",
       " 'truck',\n",
       " 'pedestrian',\n",
       " 'truck',\n",
       " 'truck',\n",
       " 'car',\n",
       " 'truck',\n",
       " 'truck',\n",
       " 'car',\n",
       " 'pedestrian',\n",
       " 'bus',\n",
       " 'car',\n",
       " 'bicycle',\n",
       " 'truck',\n",
       " 'truck',\n",
       " 'bus',\n",
       " 'truck',\n",
       " 'truck',\n",
       " 'truck',\n",
       " 'truck',\n",
       " 'truck',\n",
       " 'truck',\n",
       " 'truck',\n",
       " 'truck',\n",
       " 'truck',\n",
       " 'bus',\n",
       " 'truck',\n",
       " 'truck',\n",
       " 'truck',\n",
       " 'car',\n",
       " 'truck',\n",
       " 'truck',\n",
       " 'truck',\n",
       " 'truck',\n",
       " 'truck',\n",
       " 'bus',\n",
       " 'car',\n",
       " 'truck',\n",
       " 'bus',\n",
       " 'bus',\n",
       " 'truck',\n",
       " 'truck',\n",
       " 'truck',\n",
       " 'truck',\n",
       " 'truck',\n",
       " 'car',\n",
       " 'car',\n",
       " 'truck',\n",
       " 'truck',\n",
       " 'truck',\n",
       " 'bus',\n",
       " 'truck',\n",
       " 'truck',\n",
       " 'car',\n",
       " 'bus',\n",
       " 'pedestrian',\n",
       " 'car',\n",
       " 'truck',\n",
       " 'truck',\n",
       " 'truck',\n",
       " 'truck',\n",
       " 'truck',\n",
       " 'truck',\n",
       " 'truck',\n",
       " 'bus',\n",
       " 'bus',\n",
       " 'truck',\n",
       " 'truck',\n",
       " 'truck',\n",
       " 'truck',\n",
       " 'truck',\n",
       " 'truck',\n",
       " 'truck',\n",
       " 'truck',\n",
       " 'truck',\n",
       " 'bus',\n",
       " 'truck',\n",
       " 'bus',\n",
       " 'bus',\n",
       " 'truck',\n",
       " 'car',\n",
       " 'truck',\n",
       " 'truck',\n",
       " 'bus',\n",
       " 'truck',\n",
       " 'truck',\n",
       " 'truck',\n",
       " 'bus',\n",
       " 'bus',\n",
       " 'truck']"
      ]
     },
     "execution_count": 45,
     "metadata": {},
     "output_type": "execute_result"
    }
   ],
   "source": [
    "preds = [classes[x] for x in label_preds]\n",
    "preds"
   ]
  },
  {
   "cell_type": "code",
   "execution_count": null,
   "metadata": {},
   "outputs": [],
   "source": []
  }
 ],
 "metadata": {
  "kernelspec": {
   "display_name": "py3env",
   "language": "python",
   "name": "py3env"
  },
  "language_info": {
   "codemirror_mode": {
    "name": "ipython",
    "version": 3
   },
   "file_extension": ".py",
   "mimetype": "text/x-python",
   "name": "python",
   "nbconvert_exporter": "python",
   "pygments_lexer": "ipython3",
   "version": "3.6.8"
  }
 },
 "nbformat": 4,
 "nbformat_minor": 2
}
